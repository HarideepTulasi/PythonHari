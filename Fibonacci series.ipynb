{
 "cells": [
  {
   "cell_type": "markdown",
   "metadata": {},
   "source": [
    "# Fibonacci series\n",
    "# 0 1 1 2 3 5 8 13 21 34 "
   ]
  },
  {
   "cell_type": "markdown",
   "metadata": {},
   "source": [
    "####  It is series in which each number is a sum of two preceding numbers\n"
   ]
  },
  {
   "cell_type": "code",
   "execution_count": 3,
   "metadata": {},
   "outputs": [
    {
     "name": "stdout",
     "output_type": "stream",
     "text": [
      "Enter the first number: 8\n",
      "Enter the second number: 8\n",
      "Enter the number of elements: 8\n",
      "8 8 16 24 40 64 104 168 "
     ]
    }
   ],
   "source": [
    "a= int(input('Enter the first number: '))\n",
    "b= int(input('Enter the second number: '))\n",
    "n = int(input('Enter the number of elements: '))\n",
    "\n",
    "print(a,b,end=\" \")\n",
    "\n",
    "while n-2:\n",
    "    c = a+b\n",
    "    a = b\n",
    "    b = c\n",
    "    n = n -1\n",
    "    print(c ,end=\" \")\n",
    "    \n",
    "    \n",
    "    \n",
    "    \n",
    "    "
   ]
  },
  {
   "cell_type": "code",
   "execution_count": null,
   "metadata": {},
   "outputs": [],
   "source": []
  }
 ],
 "metadata": {
  "kernelspec": {
   "display_name": "Python 3",
   "language": "python",
   "name": "python3"
  },
  "language_info": {
   "codemirror_mode": {
    "name": "ipython",
    "version": 3
   },
   "file_extension": ".py",
   "mimetype": "text/x-python",
   "name": "python",
   "nbconvert_exporter": "python",
   "pygments_lexer": "ipython3",
   "version": "3.7.4"
  }
 },
 "nbformat": 4,
 "nbformat_minor": 2
}
