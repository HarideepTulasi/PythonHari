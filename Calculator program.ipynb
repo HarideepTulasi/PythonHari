{
 "cells": [
  {
   "cell_type": "markdown",
   "metadata": {},
   "source": [
    "# This notebook does some basic calculator programming\n"
   ]
  },
  {
   "cell_type": "code",
   "execution_count": null,
   "metadata": {},
   "outputs": [],
   "source": [
    "def sum(a,b):\n",
    "    return a+b\n",
    "def sub(a,b):\n",
    "    return a-b\n",
    "def mul(a,b):\n",
    "    return a*b\n",
    "def cube(a):\n",
    "    return a**3\n",
    "def square(a):\n",
    "    return a**2\n",
    "def si(p,t,r):\n",
    "    return (p*t*r)/100\n",
    "def ci(p,t,r):\n",
    "    return p * pow((1+r/100),t)\n",
    "\n",
    "a = int(input('Please enter number a: '))\n",
    "b = int(input('Please enter number b: '))\n",
    "\n",
    "print(sum(a,b))\n",
    "\n",
    "    "
   ]
  },
  {
   "cell_type": "code",
   "execution_count": null,
   "metadata": {},
   "outputs": [],
   "source": []
  }
 ],
 "metadata": {
  "kernelspec": {
   "display_name": "Python 3",
   "language": "python",
   "name": "python3"
  },
  "language_info": {
   "codemirror_mode": {
    "name": "ipython",
    "version": 3
   },
   "file_extension": ".py",
   "mimetype": "text/x-python",
   "name": "python",
   "nbconvert_exporter": "python",
   "pygments_lexer": "ipython3",
   "version": "3.7.4"
  }
 },
 "nbformat": 4,
 "nbformat_minor": 2
}
