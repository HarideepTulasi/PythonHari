{
 "cells": [
  {
   "cell_type": "markdown",
   "metadata": {},
   "source": [
    "# Armstrong number program\n",
    "## It is a number when all its are cubed and added gives the same number.\n",
    "#### Example .153 = 1^^3 + 5^^3 + 3^^3\n"
   ]
  },
  {
   "cell_type": "code",
   "execution_count": 5,
   "metadata": {},
   "outputs": [
    {
     "name": "stdout",
     "output_type": "stream",
     "text": [
      "Please enter the number: 34\n",
      "Not an armstrong number\n"
     ]
    }
   ],
   "source": [
    "Num = int(input('Please enter the number: '))\n",
    "s = 0\n",
    "temp = Num\n",
    "\n",
    "while temp>0:\n",
    "    c = temp%10\n",
    "    s+= c**3\n",
    "    temp//= 10\n",
    "    \n",
    "if Num == s:\n",
    "    print('Its an armstrong number')\n",
    "else:\n",
    "    print('Not an armstrong number')"
   ]
  },
  {
   "cell_type": "code",
   "execution_count": null,
   "metadata": {},
   "outputs": [],
   "source": []
  },
  {
   "cell_type": "code",
   "execution_count": null,
   "metadata": {},
   "outputs": [],
   "source": []
  }
 ],
 "metadata": {
  "kernelspec": {
   "display_name": "Python 3",
   "language": "python",
   "name": "python3"
  },
  "language_info": {
   "codemirror_mode": {
    "name": "ipython",
    "version": 3
   },
   "file_extension": ".py",
   "mimetype": "text/x-python",
   "name": "python",
   "nbconvert_exporter": "python",
   "pygments_lexer": "ipython3",
   "version": "3.7.4"
  }
 },
 "nbformat": 4,
 "nbformat_minor": 2
}
